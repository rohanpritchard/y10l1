{
  "nbformat": 4,
  "nbformat_minor": 0,
  "metadata": {
    "colab": {
      "name": "Procedures and Functions.ipynb",
      "provenance": []
    },
    "kernelspec": {
      "name": "python3",
      "display_name": "Python 3"
    }
  },
  "cells": [
    {
      "cell_type": "markdown",
      "metadata": {
        "id": "7DETDlQEjwdz",
        "colab_type": "text"
      },
      "source": [
        "**Welcome to your notebook!**\n",
        "\n",
        "You can edit, write and execute code in the little grey boxes like the one below... Click inside of it and then press the play button at the top to run it!"
      ]
    },
    {
      "cell_type": "code",
      "metadata": {
        "id": "wdsWn1vRTm25",
        "colab_type": "code",
        "colab": {}
      },
      "source": [
        "print(\"See how the code gets executed and prints just below?\")\n",
        "\n",
        "x = 3\n",
        "for i in range(x):\n",
        "  print(\"We can write whatever we like...\")"
      ],
      "execution_count": 0,
      "outputs": []
    },
    {
      "cell_type": "markdown",
      "metadata": {
        "id": "7-wpHtFfkMwp",
        "colab_type": "text"
      },
      "source": [
        "So... You've just finished learning about procedures and functions. Lets try them out a little... Call the procedure below 3 times, with 3 seperate names."
      ]
    },
    {
      "cell_type": "code",
      "metadata": {
        "id": "wQleUaYbkUK4",
        "colab_type": "code",
        "colab": {}
      },
      "source": [
        "def say_hello(name):\n",
        "  print(\"Hello %s, welcome to this Python notebook.\" % name)\n",
        "\n",
        "# Write your code just under here...\n"
      ],
      "execution_count": 0,
      "outputs": []
    },
    {
      "cell_type": "markdown",
      "metadata": {
        "id": "eZy4oUkqk03E",
        "colab_type": "text"
      },
      "source": [
        "Functions are like procedures, however they return values that we can make use of. Use the function below to print out the area of 3 different circles (don't change the definition of the function)."
      ]
    },
    {
      "cell_type": "code",
      "metadata": {
        "id": "bKPpArkqlWNu",
        "colab_type": "code",
        "colab": {}
      },
      "source": [
        "def area_of_circle(radius):\n",
        "  return 3.1415 * radius * radius\n",
        "\n",
        "# Write your code just under here...\n"
      ],
      "execution_count": 0,
      "outputs": []
    },
    {
      "cell_type": "markdown",
      "metadata": {
        "id": "fYa2-iN0li7Z",
        "colab_type": "text"
      },
      "source": [
        "Time to write your own functions... Write a **procedure** that takes the length of the side of a square, and **prints** its area. It should allow you to execute the code below without errors."
      ]
    },
    {
      "cell_type": "code",
      "metadata": {
        "id": "qanBMH_xl9BC",
        "colab_type": "code",
        "colab": {}
      },
      "source": [
        "# Write your code just under here...\n",
        "\n",
        "\n",
        "\n",
        "# It should allow this code to run:\n",
        "print_area_of_square(5)"
      ],
      "execution_count": 0,
      "outputs": []
    },
    {
      "cell_type": "markdown",
      "metadata": {
        "id": "05dlLCPcmSFa",
        "colab_type": "text"
      },
      "source": [
        "Now copy and paste your **procedure** above, and turn it into a **function**. This means that it **returns** the value instead of printing it."
      ]
    },
    {
      "cell_type": "code",
      "metadata": {
        "id": "7tKiCf4tmddq",
        "colab_type": "code",
        "colab": {}
      },
      "source": [
        "# Write your code just under here...\n",
        "\n",
        "\n",
        "\n",
        "# It should allow this code to run:\n",
        "area = area_of_square(5)\n",
        "print(\"The area of your square is:\", area)"
      ],
      "execution_count": 0,
      "outputs": []
    },
    {
      "cell_type": "markdown",
      "metadata": {
        "id": "Apa8-wkbmsnk",
        "colab_type": "text"
      },
      "source": [
        "Now write a new **function** which can calculate the area of a rectangle instead, remember how to take multiple arguments?"
      ]
    },
    {
      "cell_type": "code",
      "metadata": {
        "id": "NrzGgDfHm1Ky",
        "colab_type": "code",
        "colab": {}
      },
      "source": [
        "# Write your code just under here...\n",
        "\n",
        "\n",
        "\n",
        "# It should allow this code to run:\n",
        "area = area_of_rectangle(4, 5)\n",
        "print(area)"
      ],
      "execution_count": 0,
      "outputs": []
    },
    {
      "cell_type": "markdown",
      "metadata": {
        "id": "0yqgiq69nQcY",
        "colab_type": "text"
      },
      "source": [
        "**An important note**\n",
        "\n",
        "Function/Procedure definitions (where they are written) must come **above** any place that they are called... That's why the code below doesn't work... Re-arrange the code to fix it."
      ]
    },
    {
      "cell_type": "code",
      "metadata": {
        "id": "iF2BpScxnfxK",
        "colab_type": "code",
        "colab": {
          "base_uri": "https://localhost:8080/",
          "height": 232
        },
        "outputId": "22c810eb-6581-4661-c5de-9abbee03c625"
      },
      "source": [
        "say_hello(\"Richard\")\n",
        "\n",
        "def say_hello(name):\n",
        "  print(\"Hello %s.\" % name)"
      ],
      "execution_count": 3,
      "outputs": [
        {
          "output_type": "error",
          "ename": "NameError",
          "evalue": "ignored",
          "traceback": [
            "\u001b[0;31m---------------------------------------------------------------------------\u001b[0m",
            "\u001b[0;31mNameError\u001b[0m                                 Traceback (most recent call last)",
            "\u001b[0;32m<ipython-input-3-23e222a60e1a>\u001b[0m in \u001b[0;36m<module>\u001b[0;34m()\u001b[0m\n\u001b[0;32m----> 1\u001b[0;31m \u001b[0msay_hello\u001b[0m\u001b[0;34m(\u001b[0m\u001b[0;34m\"Richard\"\u001b[0m\u001b[0;34m)\u001b[0m\u001b[0;34m\u001b[0m\u001b[0;34m\u001b[0m\u001b[0m\n\u001b[0m\u001b[1;32m      2\u001b[0m \u001b[0;34m\u001b[0m\u001b[0m\n\u001b[1;32m      3\u001b[0m \u001b[0;34m\u001b[0m\u001b[0m\n\u001b[1;32m      4\u001b[0m \u001b[0;32mdef\u001b[0m \u001b[0msay_hello\u001b[0m\u001b[0;34m(\u001b[0m\u001b[0mname\u001b[0m\u001b[0;34m)\u001b[0m\u001b[0;34m:\u001b[0m\u001b[0;34m\u001b[0m\u001b[0;34m\u001b[0m\u001b[0m\n\u001b[1;32m      5\u001b[0m   \u001b[0mprint\u001b[0m\u001b[0;34m(\u001b[0m\u001b[0;34m\"Hello %s.\"\u001b[0m \u001b[0;34m%\u001b[0m \u001b[0mname\u001b[0m\u001b[0;34m)\u001b[0m\u001b[0;34m\u001b[0m\u001b[0;34m\u001b[0m\u001b[0m\n",
            "\u001b[0;31mNameError\u001b[0m: name 'say_hello' is not defined"
          ]
        }
      ]
    },
    {
      "cell_type": "markdown",
      "metadata": {
        "id": "iWbhO1zooGTb",
        "colab_type": "text"
      },
      "source": [
        "**Why are functions and procedures so useful?**\n",
        "\n",
        "There are a bunch of reasons really... The first reason is that it can minimize *code duplication*. For instance, change the code below to use functions/procedures to reduce the amount of duplicated code here."
      ]
    },
    {
      "cell_type": "code",
      "metadata": {
        "id": "Nx3HdBN2o_l4",
        "colab_type": "code",
        "colab": {}
      },
      "source": [
        "name = input(\"What's your name?\")\n",
        "print(\"******************\")\n",
        "print(\"You answered:\", name)\n",
        "print(\"******************\")\n",
        "\n",
        "age = input(\"What's your age?\")\n",
        "print(\"******************\")\n",
        "print(\"You answered:\", age)\n",
        "print(\"******************\")\n",
        "\n",
        "city = input(\"Where are you from?\")\n",
        "print(\"******************\")\n",
        "print(\"You answered:\", city)\n",
        "print(\"******************\")\n",
        "\n",
        "food = input(\"What's your favourite food?\")\n",
        "print(\"******************\")\n",
        "print(\"You answered:\", food)\n",
        "print(\"******************\")"
      ],
      "execution_count": 0,
      "outputs": []
    },
    {
      "cell_type": "markdown",
      "metadata": {
        "id": "kMDcPi74qgjb",
        "colab_type": "text"
      },
      "source": [
        "Minimizing code duplication is great because first it makes your code shorter, but it also makes it easer to change in the future. For instance let's say we wanted to change printing asterisks (*) to printing dashes (-), now we've changed the code to use procedures, we only need to change it in one place!"
      ]
    },
    {
      "cell_type": "markdown",
      "metadata": {
        "id": "T39AUgpgq-PV",
        "colab_type": "text"
      },
      "source": [
        "Functions/Procedures also make it easier to understand what your code is doing... Take a look at this code without functions and see if you can figure out what it's doing (don't spend too long if you can't, it's supposed to be hard!)..."
      ]
    },
    {
      "cell_type": "code",
      "metadata": {
        "id": "e5_OvRqhrGSQ",
        "colab_type": "code",
        "colab": {}
      },
      "source": [
        "num = int(input(\"Enter a number: \"))\n",
        "divisable = False\n",
        "for i in range(2, num):\n",
        "  if num % i == 0:\n",
        "    divisable = True\n",
        "\n",
        "print(not divisable)"
      ],
      "execution_count": 0,
      "outputs": []
    },
    {
      "cell_type": "markdown",
      "metadata": {
        "id": "3PEoki7AsEy4",
        "colab_type": "text"
      },
      "source": [
        "Now look at how much easier it is to make sense of when we turn it into a function and call it something sensible..."
      ]
    },
    {
      "cell_type": "code",
      "metadata": {
        "id": "MUF-I0rasJ-Y",
        "colab_type": "code",
        "colab": {}
      },
      "source": [
        "def is_prime(num):\n",
        "  divisable = False\n",
        "  for i in range(2, num):\n",
        "    if num % i == 0:\n",
        "      divisable = True\n",
        "  return not divisable\n",
        "\n",
        "num = int(input(\"Enter a number: \"))\n",
        "print(is_prime(num))"
      ],
      "execution_count": 0,
      "outputs": []
    },
    {
      "cell_type": "markdown",
      "metadata": {
        "id": "OfLNsHXmuFIi",
        "colab_type": "text"
      },
      "source": [
        "Functions/Procedures are also really great for hiding away complex code that you don't *need* to understand. For instance lets say that I give you the procedure below which takes a list of x coordinates and a list of y coordinates as arguments and plots them on a graph... You don't need to know how it works, only that you can use it! Try calling it yourself with your own list of numbers."
      ]
    },
    {
      "cell_type": "code",
      "metadata": {
        "id": "j9A4_fZQucN1",
        "colab_type": "code",
        "colab": {
          "base_uri": "https://localhost:8080/",
          "height": 265
        },
        "outputId": "7ca715a1-651b-4d46-c42a-1dad93b1ab50"
      },
      "source": [
        "def plot_graph(xs, ys):\n",
        "  import matplotlib.pyplot as plt\n",
        "  plt.plot(xs, ys)\n",
        "  plt.show()\n",
        "\n",
        "xs = [1.3, 2.0, 2.9, 3.6]\n",
        "ys = [0.3, 2.9, 1.4, 4.4]\n",
        "\n",
        "plot_graph(xs, ys)\n",
        "\n",
        "# Try making your own lists and plotting some graphs below...\n"
      ],
      "execution_count": 28,
      "outputs": [
        {
          "output_type": "display_data",
          "data": {
            "image/png": "[encoded data removed]",
            "text/plain": [
              "<Figure size 432x288 with 1 Axes>"
            ]
          },
          "metadata": {
            "tags": []
          }
        }
      ]
    },
    {
      "cell_type": "markdown",
      "metadata": {
        "id": "K0mBy5anwPpz",
        "colab_type": "text"
      },
      "source": [
        "Lets try writing another procedure ourselves to make sure we haven't gone rusty... Try writing a procedure *greet_user* that takes 2 arguments (*name* and *is_formal*) that prints \"Hey John!\" if *name=John* and *is_formal=False* or \"Hello, John.\" if *is_formal=True*."
      ]
    },
    {
      "cell_type": "code",
      "metadata": {
        "id": "MhAl_rDmxp1N",
        "colab_type": "code",
        "colab": {}
      },
      "source": [
        "# Write your code just under here...\n"
      ],
      "execution_count": 0,
      "outputs": []
    },
    {
      "cell_type": "markdown",
      "metadata": {
        "id": "7TJFBF2uvLiK",
        "colab_type": "text"
      },
      "source": [
        "**BONUS!!!**\n",
        "\n",
        "Functions/Procedures in Python let you do a funky thing... You can add **optional arguments**, check out the sample code below."
      ]
    },
    {
      "cell_type": "code",
      "metadata": {
        "id": "xt7BIiHWvVh5",
        "colab_type": "code",
        "colab": {}
      },
      "source": [
        "# Setting a value to the argument in the procedure below means that you don't \n",
        "# have to pass it the argument if you don't want to, it'll just replace it with \n",
        "# the default \"World\".\n",
        "def say_hello(name=\"World\"):\n",
        "  print(\"Hello\", name)\n",
        "\n",
        "# So this example will print \"Hello World\"\n",
        "say_hello()\n",
        "\n",
        "# But this one will print \"Hello Lucy\"\n",
        "say_hello(\"Lucy\")\n",
        "\n",
        "# Try running it!"
      ],
      "execution_count": 0,
      "outputs": []
    },
    {
      "cell_type": "markdown",
      "metadata": {
        "id": "yGLM8TcD0Pfk",
        "colab_type": "text"
      },
      "source": [
        "**Final Challenge** \n",
        "*- this one is really tricky tbh*\n",
        "\n",
        "Write a procedure *print_triangle* that takes a number and prints a triangle of that height... So *print_triangle(4)* should print:\n",
        "\n",
        "```\n",
        "   *\n",
        "  ***\n",
        " *****\n",
        "*******\n",
        "```"
      ]
    },
    {
      "cell_type": "code",
      "metadata": {
        "id": "IDggcbN505U7",
        "colab_type": "code",
        "colab": {}
      },
      "source": [
        "# Write your code just under here...\n"
      ],
      "execution_count": 0,
      "outputs": []
    }
  ]
}